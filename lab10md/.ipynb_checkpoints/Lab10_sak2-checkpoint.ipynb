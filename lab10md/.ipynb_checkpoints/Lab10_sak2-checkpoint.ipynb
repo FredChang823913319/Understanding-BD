{
 "cells": [
  {
   "cell_type": "markdown",
   "metadata": {
    "deletable": true,
    "editable": true
   },
   "source": [
    "Name: Artur Sak\n",
    "\n",
    "NetID:(sak2)\n",
    "\n",
    "### Introduction\n",
    "\n",
    "In this lab, we will use deep neural networks for image classification. We will use tensorflow for this lab. Please make sure you can install and run tensorflow before you leave. \n",
    "\n",
    "If you are using SageMathCloud, opencv and tensorflow are already installed, you can skip this note.\n",
    "\n",
    "## Notes on Tensorflow\n",
    "\n",
    "Install: https://www.tensorflow.org/install/\n",
    "\n",
    "Tutorials: https://www.tensorflow.org/get_started/get_started and\n",
    "           https://www.tensorflow.org/get_started/mnist/pros\n",
    "\n",
    "Tensorflow API: https://www.tensorflow.org/api_docs/python/\n",
    "\n"
   ]
  },
  {
   "cell_type": "markdown",
   "metadata": {
    "collapsed": true,
    "deletable": true,
    "editable": true
   },
   "source": [
    "# Part 1: Introduction to Tensorflow"
   ]
  },
  {
   "cell_type": "markdown",
   "metadata": {
    "deletable": true,
    "editable": true
   },
   "source": [
    "Make sure you have installed tensorflow correctly. After you installed it, let's check the version first. The tensorflow on the instructor's machine is 0.12. **If you use a different version of tensorflow, you may need to change some function names to make it work properly.** Check the API of different versions of tensorflow here: https://www.tensorflow.org/versions/"
   ]
  },
  {
   "cell_type": "code",
   "execution_count": 1,
   "metadata": {
    "collapsed": false,
    "deletable": true,
    "editable": true
   },
   "outputs": [
    {
     "name": "stdout",
     "output_type": "stream",
     "text": [
      "0.12.1\n"
     ]
    }
   ],
   "source": [
    "import tensorflow as tf\n",
    "print(tf.__version__)"
   ]
  },
  {
   "cell_type": "markdown",
   "metadata": {
    "deletable": true,
    "editable": true
   },
   "source": [
    "## TensorFlow Sessions\n",
    "- A Session object encapsulates the environment in which Operation objects are executed, and Tensor objects are evaluated."
   ]
  },
  {
   "cell_type": "code",
   "execution_count": 2,
   "metadata": {
    "collapsed": false,
    "deletable": true,
    "editable": true
   },
   "outputs": [
    {
     "name": "stdout",
     "output_type": "stream",
     "text": [
      "Tensor(\"random_uniform:0\", shape=(2, 3), dtype=float32)\n",
      "----------------------------------------------\n",
      "[[ 0.15313363  0.97119927  0.52935517]\n",
      " [ 0.22556722  0.43286049  0.5038147 ]]\n"
     ]
    }
   ],
   "source": [
    "import numpy as np\n",
    "\n",
    "sess = tf.Session()\n",
    "\n",
    "A_tf = tf.random_uniform([2,3])   # A_tf is a tensorflow variable\n",
    "print A_tf\n",
    "print (\"----------------------------------------------\")\n",
    "sess.run(tf.global_variables_initializer())\n",
    "A_tf_evaluted = sess.run(A_tf)   # A_tf_evaluted is a numpy array\n",
    "print A_tf_evaluted"
   ]
  },
  {
   "cell_type": "code",
   "execution_count": 3,
   "metadata": {
    "collapsed": false,
    "deletable": true,
    "editable": true
   },
   "outputs": [
    {
     "name": "stdout",
     "output_type": "stream",
     "text": [
      "A:\n",
      "[[ 1.  1.  1.]\n",
      " [ 1.  1.  1.]]\n",
      "x:\n",
      "[[ 1.]\n",
      " [ 2.]\n",
      " [ 3.]]\n",
      "b:\n",
      "[[ 6.]\n",
      " [ 6.]]\n"
     ]
    }
   ],
   "source": [
    "# Let's do a simple matrix multiplication\n",
    "A = tf.constant(1.0, shape=[2,3])\n",
    "x = tf.constant([1.0,2.0,3.0], shape=[3,1])\n",
    "b = tf.matmul(A,x)\n",
    "\n",
    "sess.run(tf.global_variables_initializer())\n",
    "print(\"A:\")\n",
    "print sess.run(A)\n",
    "print(\"x:\")\n",
    "print sess.run(x)\n",
    "print(\"b:\")\n",
    "print sess.run(b)"
   ]
  },
  {
   "cell_type": "markdown",
   "metadata": {
    "deletable": true,
    "editable": true
   },
   "source": [
    "## Exercise 1: Linear Regression using tensorflow"
   ]
  },
  {
   "cell_type": "markdown",
   "metadata": {
    "deletable": true,
    "editable": true
   },
   "source": [
    "Let's create some linear data that $y = ax + b,$ and add some random noise. "
   ]
  },
  {
   "cell_type": "code",
   "execution_count": 4,
   "metadata": {
    "collapsed": false,
    "deletable": true,
    "editable": true
   },
   "outputs": [
    {
     "data": {
      "image/png": "[encoded data removed]",
      "text/plain": [
       "<matplotlib.figure.Figure at 0x112bf8b10>"
      ]
     },
     "metadata": {},
     "output_type": "display_data"
    }
   ],
   "source": [
    "%matplotlib inline\n",
    "\n",
    "import matplotlib.pyplot as plt\n",
    "\n",
    "\n",
    "# Create 200 data points, using a linear model with noise.\n",
    "x = (np.random.rand(200,1)-0.5)*2.0\n",
    "noise = 10*np.random.rand(200,1)\n",
    "b = 1\n",
    "a = 0.5\n",
    "y = a*x+ b +0.02*noise \n",
    "plt.scatter(x,y)\n",
    "\n",
    "# Pad x with 1 for bias-term.\n",
    "x = np.concatenate((x,np.ones(x.shape)),axis=1)"
   ]
  },
  {
   "cell_type": "markdown",
   "metadata": {
    "deletable": true,
    "editable": true
   },
   "source": [
    "Given the data $x$ and $y$, our task is to estimate the parameters $a$ and $b$. Let's define the trainable variable in Tensorflow:"
   ]
  },
  {
   "cell_type": "code",
   "execution_count": 5,
   "metadata": {
    "collapsed": true,
    "deletable": true,
    "editable": true
   },
   "outputs": [],
   "source": [
    "w = tf.Variable(tf.random_normal([2,1]))  # Random initialize the weight and bias "
   ]
  },
  {
   "cell_type": "markdown",
   "metadata": {
    "deletable": true,
    "editable": true
   },
   "source": [
    "$w$ contains the two parameters we want to estimate. It will be updated during training. The next step is to construct the computational graph in Tensorflow, by which you tell Tensorflow how to update the variable. "
   ]
  },
  {
   "cell_type": "code",
   "execution_count": 6,
   "metadata": {
    "collapsed": false,
    "deletable": true,
    "editable": true
   },
   "outputs": [
    {
     "name": "stdout",
     "output_type": "stream",
     "text": [
      "Loss at step 0: 16.949755\n",
      "Loss at step 5: 15.955282\n",
      "Loss at step 10: 14.976724\n",
      "Loss at step 15: 14.015948\n",
      "Loss at step 20: 13.075070\n",
      "Loss at step 25: 12.156473\n",
      "Loss at step 30: 11.262812\n",
      "Loss at step 35: 10.397012\n",
      "Loss at step 40: 9.562226\n",
      "Loss at step 45: 8.761756\n",
      "Loss at step 50: 7.998897\n",
      "Loss at step 55: 7.276713\n",
      "Loss at step 60: 6.597726\n",
      "Loss at step 65: 5.963530\n",
      "Loss at step 70: 5.374402\n",
      "Loss at step 75: 4.829021\n",
      "Loss at step 80: 4.324405\n",
      "Loss at step 85: 3.856175\n",
      "Loss at step 90: 3.419162\n",
      "Loss at step 95: 3.008256\n",
      "----------------------------------------------\n",
      "[[ 0.18831961]\n",
      " [ 1.06073427]]\n"
     ]
    }
   ],
   "source": [
    "# Define computational graph using placeholders\n",
    "X_placeholder = tf.placeholder(tf.float32, shape=[None,2])  # Define a placeholder for the data x\n",
    "y_placeholder = tf.placeholder(tf.float32, shape=[None,1])  # Define a placeholder for the data y\n",
    "\n",
    "# y_hat is the output by using w\n",
    "y_hat = tf.matmul(X_placeholder,w)\n",
    "\n",
    "#Your code here: define your loss, you can use the L2 distance bewteen the predict y_hat and real y in the data\n",
    "loss = tf.sqrt(tf.reduce_sum(tf.square(y_hat - y_placeholder)))\n",
    "\n",
    "# Create a gradient descent optimizer. Tensorflow computes the gradients for you!\n",
    "train_op = tf.train.GradientDescentOptimizer(0.001).minimize(loss)\n",
    "\n",
    "# Defines a session\n",
    "sess = tf.Session() \n",
    "sess.run(tf.global_variables_initializer())\n",
    "\n",
    "# Performs gradient descent\n",
    "for step in range(0,100):\n",
    "    \n",
    "    sess.run(train_op, {X_placeholder:x, y_placeholder:y})\n",
    "    #Remember that you will need to use the data x and y above to feed the placeholder\n",
    "    \n",
    "    if step % 5 == 0:\n",
    "        _, loss_np = sess.run([train_op, loss], feed_dict={X_placeholder:x, y_placeholder:y})\n",
    "        print(\"Loss at step %d: %f\" % (step, loss_np))\n",
    "\n",
    "print (\"----------------------------------------------\")        \n",
    "print sess.run(w)"
   ]
  },
  {
   "cell_type": "markdown",
   "metadata": {},
   "source": [
    "\n",
    "\n",
    "# Part 2 classify MNIST using a simple model.\n",
    "\n",
    "We first classify MNIST using a simple Multi-layer percepetron"
   ]
  },
  {
   "cell_type": "markdown",
   "metadata": {},
   "source": [
    "We are going to create a simple Multi-layer percepetron, a simple type of Neural Network, to performe classification tasks on the MNIST digits dataset. If you are not familiar with the MNIST dataset, please consider to read more about it: <a href=\"http://yann.lecun.com/exdb/mnist/\">click here</a> \n",
    "According to Lecun's website, the MNIST is a: \"database of handwritten digits that has a training set of 60,000 examples, and a test set of 10,000 examples. It is a subset of a larger set available from NIST. The digits have been size-normalized and centered in a fixed-size image\"."
   ]
  },
  {
   "cell_type": "markdown",
   "metadata": {},
   "source": [
    "### Import the MNIST dataset using TensorFlow built-in feature"
   ]
  },
  {
   "cell_type": "code",
   "execution_count": 7,
   "metadata": {
    "collapsed": false
   },
   "outputs": [
    {
     "name": "stdout",
     "output_type": "stream",
     "text": [
      "Extracting MNIST_data/train-images-idx3-ubyte.gz\n",
      "Extracting MNIST_data/train-labels-idx1-ubyte.gz\n",
      "Extracting MNIST_data/t10k-images-idx3-ubyte.gz\n",
      "Extracting MNIST_data/t10k-labels-idx1-ubyte.gz\n"
     ]
    }
   ],
   "source": [
    "from tensorflow.examples.tutorials.mnist import input_data\n",
    "mnist = input_data.read_data_sets('MNIST_data', one_hot=True)"
   ]
  },
  {
   "cell_type": "markdown",
   "metadata": {},
   "source": [
    "The <span style=\"background-color:#dcdcdc\n",
    "\"> One-hot = True</span> argument only means that, in contrast to Binary representation, the labels will be presented in a way that only one bit will be on for a specific digit. For example, five and zero in a binary code would be:"
   ]
  },
  {
   "cell_type": "markdown",
   "metadata": {},
   "source": [
    "<pre>\n",
    "Number representation:    0\n",
    "Binary encoding:        [2^5]  [2^4]   [2^3]   [2^2]   [2^1]   [2^0]  \n",
    "Array/vector:             0      0       0       0       0       0 \n",
    "\n",
    "Number representation:    5\n",
    "Binary encoding:        [2^5]  [2^4]   [2^3]   [2^2]   [2^1]   [2^0]  \n",
    "Array/vector:             0      0       0       1       0       1  \n",
    "</pre>"
   ]
  },
  {
   "cell_type": "markdown",
   "metadata": {},
   "source": [
    "Using a different notation, the same digits using one-hot vector representation can be show as: "
   ]
  },
  {
   "cell_type": "markdown",
   "metadata": {},
   "source": [
    "<pre>\n",
    "Number representation:    0\n",
    "One-hot encoding:        [5]   [4]    [3]    [2]    [1]   [0]  \n",
    "Array/vector:             0     0      0      0      0     1   \n",
    "\n",
    "Number representation:    5\n",
    "One-hot encoding:        [5]   [4]    [3]    [2]    [1]    [0]  \n",
    "Array/vector:             1     0      0      0      0      0   \n",
    "</pre>"
   ]
  },
  {
   "cell_type": "markdown",
   "metadata": {},
   "source": [
    "The imported data can be divided as follow:\n",
    "\n",
    "- Training (mnist.train) >>  Use the given dataset with inputs and related outputs for training of NN. In our case, if you give an image that you know that represents a \"nine\", this set will tell the neural network that we expect a \"nine\" as the output.  \n",
    "        - 55,000 data points\n",
    "        - mnist.train.images for inputs\n",
    "        - mnist.train.labels for outputs\n",
    "  \n",
    "   \n",
    "- Validation (mnist.validation) >> The same as training, but now the date is used to generate model properties (classification error, for example) and from this, tune parameters like the optimal number of hidden units or determine a stopping point for the back-propagation algorithm  \n",
    "        - 5,000 data points\n",
    "        - mnist.validation.images for inputs\n",
    "        - mnist.validation.labels for outputs\n",
    "  \n",
    "  \n",
    "- Test (mnist.test) >> the model does not have access to this informations prior to the test phase. It is used to evaluate the performance and accuracy of the model against \"real life situations\". No further optimization beyond this point.  \n",
    "        - 10,000 data points\n",
    "        - mnist.test.images for inputs\n",
    "        - mnist.test.labels for outputs"
   ]
  },
  {
   "cell_type": "markdown",
   "metadata": {},
   "source": [
    "### Creating an interactive section"
   ]
  },
  {
   "cell_type": "markdown",
   "metadata": {},
   "source": [
    "You have two basic options when using TensorFlow to run your code:\n",
    "\n",
    "- [Build graphs and run session] Do all the set-up and THEN execute a session to evaluate tensors and run operations (ops) \n",
    "- [Interactive session] create your coding and run on the fly. \n",
    "\n",
    "For this first part, we will use the interactive session that is more suitable for environments like Jupyter notebooks."
   ]
  },
  {
   "cell_type": "code",
   "execution_count": 8,
   "metadata": {
    "collapsed": true
   },
   "outputs": [],
   "source": [
    "sess = tf.InteractiveSession()"
   ]
  },
  {
   "cell_type": "markdown",
   "metadata": {},
   "source": [
    "### Creating placeholders"
   ]
  },
  {
   "cell_type": "markdown",
   "metadata": {},
   "source": [
    "It's a best practice to create placeholders before variable assignments when using TensorFlow. Here we'll create placeholders for inputs (\"Xs\") and outputs (\"Ys\").   \n",
    "\n",
    "__Placeholder 'X':__ represents the \"space\" allocated input or the images. \n",
    "       * Each input has 784 pixels distributed by a 28 width x 28 height matrix   \n",
    "       * The 'shape' argument defines the tensor size by its dimensions.  \n",
    "       * 1st dimension = None. Indicates that the batch size, can be of any size.  \n",
    "       * 2nd dimension = 784. Indicates the number of pixels on a single flattened MNIST image.  \n",
    "      \n",
    "__Placeholder 'Y':___ represents the final output or the labels.  \n",
    "       * 10 possible classes (0,1,2,3,4,5,6,7,8,9)  \n",
    "       * The 'shape' argument defines the tensor size by its dimensions.  \n",
    "       * 1st dimension = None. Indicates that the batch size, can be of any size.   \n",
    "       * 2nd dimension = 10. Indicates the number of targets/outcomes \n",
    "\n",
    "__dtype for both placeholders:__ if you not sure, use tf.float32. The limitation here is that the later presented softmax function only accepts float32 or float64 dtypes. For more dtypes, check TensorFlow's documentation <a href=\"https://www.tensorflow.org/versions/r0.9/api_docs/python/framework.html#tensor-types\">here</a>\n"
   ]
  },
  {
   "cell_type": "code",
   "execution_count": 9,
   "metadata": {
    "collapsed": true
   },
   "outputs": [],
   "source": [
    "x  = tf.placeholder(tf.float32, shape=[None, 784])\n",
    "y_ = tf.placeholder(tf.float32, shape=[None, 10])"
   ]
  },
  {
   "cell_type": "markdown",
   "metadata": {},
   "source": [
    "### Assigning bias and weights to null tensors"
   ]
  },
  {
   "cell_type": "markdown",
   "metadata": {},
   "source": [
    "Now we are going to create the weights and biases, for this purpose they will be used as arrays filled with zeros. The values that we choose here can be critical, but we'll cover a better way on the second part, instead of this type of initialization."
   ]
  },
  {
   "cell_type": "code",
   "execution_count": 10,
   "metadata": {
    "collapsed": true
   },
   "outputs": [],
   "source": [
    "# Weight tensor\n",
    "W = tf.Variable(tf.zeros([784,10],tf.float32))\n",
    "# Bias tensor\n",
    "b = tf.Variable(tf.zeros([10],tf.float32))"
   ]
  },
  {
   "cell_type": "markdown",
   "metadata": {},
   "source": [
    "### Execute the assignment operation "
   ]
  },
  {
   "cell_type": "markdown",
   "metadata": {},
   "source": [
    "Before, we assigned the weights and biases but we did not initialize them with null values. For this reason, TensorFlow need to initialize the variables that you assign.  \n",
    "Please notice that we're using this notation \"sess.run\" because we previously started an interactive session."
   ]
  },
  {
   "cell_type": "code",
   "execution_count": 11,
   "metadata": {
    "collapsed": false
   },
   "outputs": [
    {
     "name": "stdout",
     "output_type": "stream",
     "text": [
      "WARNING:tensorflow:From <ipython-input-11-b5605c4faaa0>:2 in <module>.: initialize_all_variables (from tensorflow.python.ops.variables) is deprecated and will be removed after 2017-03-02.\n",
      "Instructions for updating:\n",
      "Use `tf.global_variables_initializer` instead.\n"
     ]
    }
   ],
   "source": [
    "# run the op initialize_all_variables using an interactive session\n",
    "sess.run(tf.initialize_all_variables())"
   ]
  },
  {
   "cell_type": "markdown",
   "metadata": {},
   "source": [
    "### Adding Weights and Biases to input"
   ]
  },
  {
   "cell_type": "markdown",
   "metadata": {},
   "source": [
    "The only difference from our next operation to the picture below is that we are using the mathematical convention for what is being executed in the illustration. The tf.matmul operation performs a matrix multiplication between x (inputs) and W (weights) and after the code add biases."
   ]
  },
  {
   "cell_type": "markdown",
   "metadata": {},
   "source": [
    "\n",
    "<img src=\"https://ibm.box.com/shared/static/88ksiymk1xkb10rgk0jwr3jw814jbfxo.png\" alt=\"HTML5 Icon\" style=\"width:400px;height:350px;\"> \n",
    "<div style=\"text-align:center\">Illustration showing how weights and biases are added to neurons/nodes. </div>\n"
   ]
  },
  {
   "cell_type": "code",
   "execution_count": 12,
   "metadata": {
    "collapsed": false
   },
   "outputs": [
    {
     "data": {
      "text/plain": [
       "<tf.Tensor 'add:0' shape=(?, 10) dtype=float32>"
      ]
     },
     "execution_count": 12,
     "metadata": {},
     "output_type": "execute_result"
    }
   ],
   "source": [
    "#mathematical operation to add weights and biases to the inputs\n",
    "tf.matmul(x,W) + b"
   ]
  },
  {
   "cell_type": "markdown",
   "metadata": {},
   "source": [
    "### Softmax Regression"
   ]
  },
  {
   "cell_type": "markdown",
   "metadata": {},
   "source": [
    "Softmax is an activation function that is normally used in classification problems. It generate the probabilities for the output. For example, our model will not be 100% sure that one digit is the number nine, instead, the answer will be a distribution of probabilities where, if the model is right, the nine number will have the larger probability.\n",
    "\n",
    "For comparison, below is the one-hot vector for a nine digit label:"
   ]
  },
  {
   "cell_type": "raw",
   "metadata": {},
   "source": [
    "0 --> 0  \n",
    "1 --> 0 \n",
    "2 --> 0\n",
    "3 --> 0\n",
    "4 --> 0\n",
    "5 --> 0\n",
    "6 --> 0\n",
    "7 --> 0\n",
    "8 --> 0\n",
    "9 --> 1"
   ]
  },
  {
   "cell_type": "markdown",
   "metadata": {},
   "source": [
    "A machine does not have all this certainty, so we want to know what is the best guess, but we also want to understand how sure it was and what was the second better option. Below is an example of a hypothetical distribution for a nine digit:"
   ]
  },
  {
   "cell_type": "raw",
   "metadata": {},
   "source": [
    "0 -->.0.1%  \n",
    "1 -->...2%  \n",
    "2 -->...3%  \n",
    "3 -->...2%  \n",
    "4 -->..12%  \n",
    "5 -->..10%  \n",
    "6 -->..57%\n",
    "7 -->..20%\n",
    "8 -->..55%\n",
    "9 -->..80%  "
   ]
  },
  {
   "cell_type": "code",
   "execution_count": 13,
   "metadata": {
    "collapsed": true
   },
   "outputs": [],
   "source": [
    "y = tf.nn.softmax(tf.matmul(x,W) + b)"
   ]
  },
  {
   "cell_type": "markdown",
   "metadata": {},
   "source": [
    "Logistic function output is used for the classification between two target classes 0/1. Softmax function is generalized type of logistic function. That is, Softmax can output a multiclass categorical probability distribution. "
   ]
  },
  {
   "cell_type": "markdown",
   "metadata": {},
   "source": [
    "### Cost function"
   ]
  },
  {
   "cell_type": "markdown",
   "metadata": {},
   "source": [
    "It is a function that is used to minimize the difference between the right answers (labels) and estimated outputs by our Network. "
   ]
  },
  {
   "cell_type": "code",
   "execution_count": 14,
   "metadata": {
    "collapsed": true
   },
   "outputs": [],
   "source": [
    "cross_entropy = tf.reduce_mean(-tf.reduce_sum(y_ * tf.log(y), reduction_indices=[1]))"
   ]
  },
  {
   "cell_type": "markdown",
   "metadata": {},
   "source": [
    "### Type of optimization: Gradient Descent"
   ]
  },
  {
   "cell_type": "markdown",
   "metadata": {},
   "source": [
    "This is the part where you configure the optimizer for you Neural Network. There are several optimizers available, in our case we will use Gradient Descent that is very well stablished."
   ]
  },
  {
   "cell_type": "code",
   "execution_count": 15,
   "metadata": {
    "collapsed": true
   },
   "outputs": [],
   "source": [
    "train_step = tf.train.GradientDescentOptimizer(0.5).minimize(cross_entropy)"
   ]
  },
  {
   "cell_type": "markdown",
   "metadata": {},
   "source": [
    "### Training batches"
   ]
  },
  {
   "cell_type": "markdown",
   "metadata": {},
   "source": [
    "Train using minibatch Gradient Descent.\n",
    "\n",
    "In practice, Batch Gradient Descent is not often used because is too computationally expensive. The good part about this method is that you have the true gradient, but with the expensive computing task of using the whole dataset in one time. Due to this problem, Neural Networks usually use minibatch to train."
   ]
  },
  {
   "cell_type": "code",
   "execution_count": 16,
   "metadata": {
    "collapsed": true
   },
   "outputs": [],
   "source": [
    "#Load 50 training examples for each training iteration   \n",
    "for i in range(1000):\n",
    "    batch = mnist.train.next_batch(50)\n",
    "    train_step.run(feed_dict={x: batch[0], y_: batch[1]})"
   ]
  },
  {
   "cell_type": "markdown",
   "metadata": {},
   "source": [
    "### Test"
   ]
  },
  {
   "cell_type": "code",
   "execution_count": 17,
   "metadata": {
    "collapsed": false
   },
   "outputs": [
    {
     "name": "stdout",
     "output_type": "stream",
     "text": [
      "The final accuracy for the simple ANN model is: 90.9200012684 % \n"
     ]
    }
   ],
   "source": [
    "correct_prediction = tf.equal(tf.argmax(y,1), tf.argmax(y_,1))\n",
    "accuracy = tf.reduce_mean(tf.cast(correct_prediction, tf.float32))\n",
    "acc = accuracy.eval(feed_dict={x: mnist.test.images, y_: mnist.test.labels}) * 100\n",
    "print(\"The final accuracy for the simple ANN model is: {} % \".format(acc) )"
   ]
  },
  {
   "cell_type": "code",
   "execution_count": 18,
   "metadata": {
    "collapsed": true
   },
   "outputs": [],
   "source": [
    "sess.close() #finish the session"
   ]
  },
  {
   "cell_type": "markdown",
   "metadata": {},
   "source": [
    "Is the final result good?\n",
    "\n",
    "**According to the Tensorflow documentation this result for MNIST is embarassingly bad.**\n",
    "\n",
    "Let's check the best algorithm available out there (10th june 2016):\n",
    "  \n",
    "_Result:_ 0.21% error (99.79% accuracy)  \n",
    "<a href=\"http://cs.nyu.edu/~wanli/dropc/\">Reference here</a>"
   ]
  },
  {
   "cell_type": "markdown",
   "metadata": {
    "deletable": true,
    "editable": true
   },
   "source": [
    "# Part 3: Image Classification by Quality"
   ]
  },
  {
   "cell_type": "markdown",
   "metadata": {
    "deletable": true,
    "editable": true
   },
   "source": [
    "Let's load the MNIST data again."
   ]
  },
  {
   "cell_type": "code",
   "execution_count": 19,
   "metadata": {
    "collapsed": false,
    "deletable": true,
    "editable": true
   },
   "outputs": [
    {
     "name": "stdout",
     "output_type": "stream",
     "text": [
      "Extracting MNIST_data/train-images-idx3-ubyte.gz\n",
      "Extracting MNIST_data/train-labels-idx1-ubyte.gz\n",
      "Extracting MNIST_data/t10k-images-idx3-ubyte.gz\n",
      "Extracting MNIST_data/t10k-labels-idx1-ubyte.gz\n",
      "(55000, 28, 28, 1)\n"
     ]
    },
    {
     "data": {
      "text/plain": [
       "(-0.5, 27.5, 27.5, -0.5)"
      ]
     },
     "execution_count": 19,
     "metadata": {},
     "output_type": "execute_result"
    },
    {
     "data": {
      "image/png": "[encoded data removed]",
      "text/plain": [
       "<matplotlib.figure.Figure at 0x116de3550>"
      ]
     },
     "metadata": {},
     "output_type": "display_data"
    }
   ],
   "source": [
    "%matplotlib inline\n",
    "\n",
    "from scipy import ndimage\n",
    "from tensorflow.examples.tutorials.mnist import input_data\n",
    "\n",
    "\n",
    "\n",
    "mnist = input_data.read_data_sets(\"MNIST_data/\", one_hot=True)\n",
    "\n",
    "# get one image from the training dataset\n",
    "train_set = np.reshape(mnist.train.images, (-1,28,28,1))\n",
    "\n",
    "print(train_set.shape)\n",
    "\n",
    "# pick a random image for display, for example, image 230\n",
    "plt.imshow(np.squeeze(train_set[230,:,:,:]), cmap='gray'); plt.axis('off')\n"
   ]
  },
  {
   "cell_type": "markdown",
   "metadata": {
    "deletable": true,
    "editable": true
   },
   "source": [
    "## Exercise 2: Create your training and testing data\n",
    "\n",
    "We will train a model to classify the images into two classes: blurry images and sharp images. We can create the dataset by using Gaussian filters. The original MNIST images are labeled as 0s, while the blurry images are labeled as 1s. Return the processed data and the label. Make sure you can create a dataset with different degrees of blurriness. "
   ]
  },
  {
   "cell_type": "code",
   "execution_count": 56,
   "metadata": {
    "collapsed": false,
    "deletable": true,
    "editable": true
   },
   "outputs": [],
   "source": [
    "import random\n",
    "def prepare_dataset(data):\n",
    "#input: a 4D tensor of images\n",
    "#output: x, a 4D tensor of images after processing\n",
    "#        y, your labels  \n",
    "    x = np.float32(np.copy(data))\n",
    "    y = np.zeros((x.shape[0],2))\n",
    "    blurred = np.round(np.random.uniform(0,1,x.shape[0]))\n",
    "    blurred.astype(np.int64)\n",
    "    \n",
    "    for i in range(x.shape[0]):\n",
    "        if blurred[i] == 0:\n",
    "            x[i] = ndimage.filters.gaussian_filter(x[i],sigma=random.randint(1,7))\n",
    "            y[i,1] = 1\n",
    "        else:\n",
    "            y[i,0] = 1\n",
    "    \n",
    "    return x, y"
   ]
  },
  {
   "cell_type": "markdown",
   "metadata": {
    "deletable": true,
    "editable": true
   },
   "source": [
    "Let's test the function first before going further. The following code generate a figure that compare the original data and your dataset (contains both shape and blurry images). Run it a couple of times to make sure you can see both postive and negtive examples. "
   ]
  },
  {
   "cell_type": "code",
   "execution_count": 57,
   "metadata": {
    "collapsed": false
   },
   "outputs": [],
   "source": [
    "data_train = np.reshape(mnist.train.images, (-1,28,28,1))\n",
    "x_train, y_train = prepare_dataset(data_train)\n",
    "\n",
    "#Show some examples of your processed data\n",
    "idx = np.random.randint(low=0, high =data_train.shape[0], size =4)"
   ]
  },
  {
   "cell_type": "code",
   "execution_count": 58,
   "metadata": {
    "collapsed": false,
    "deletable": true,
    "editable": true
   },
   "outputs": [
    {
     "name": "stdout",
     "output_type": "stream",
     "text": [
      "('Labels for the for images are: ', array([ 0.,  1.]), array([ 1.,  0.]), array([ 1.,  0.]), array([ 0.,  1.]))\n"
     ]
    },
    {
     "data": {
      "image/png": "[encoded data removed]",
      "text/plain": [
       "<matplotlib.figure.Figure at 0x11910e750>"
      ]
     },
     "metadata": {},
     "output_type": "display_data"
    },
    {
     "data": {
      "image/png": "[encoded data removed]",
      "text/plain": [
       "<matplotlib.figure.Figure at 0x12b442650>"
      ]
     },
     "metadata": {},
     "output_type": "display_data"
    }
   ],
   "source": [
    "#Original MNIST data\n",
    "fig = plt.figure(1)\n",
    "plt.subplot(141)\n",
    "plt.imshow(np.squeeze(data_train[idx[0],:,:,:]), cmap='gray'); plt.axis('off')\n",
    "plt.subplot(142)\n",
    "plt.imshow(np.squeeze(data_train[idx[1],:,:,:]), cmap='gray'); plt.axis('off')\n",
    "plt.subplot(143)\n",
    "plt.imshow(np.squeeze(data_train[idx[2],:,:,:]), cmap='gray'); plt.axis('off')\n",
    "plt.subplot(144)\n",
    "plt.imshow(np.squeeze(data_train[idx[3],:,:,:]), cmap='gray'); plt.axis('off')\n",
    "\n",
    "\n",
    "#Your data\n",
    "fig = plt.figure(2)\n",
    "plt.subplot(141)\n",
    "plt.imshow(np.squeeze(x_train[idx[0],:,:,:]), cmap='gray'); plt.axis('off')\n",
    "plt.subplot(142)\n",
    "plt.imshow(np.squeeze(x_train[idx[1],:,:,:]), cmap='gray'); plt.axis('off')\n",
    "plt.subplot(143)\n",
    "plt.imshow(np.squeeze(x_train[idx[2],:,:,:]), cmap='gray'); plt.axis('off')\n",
    "plt.subplot(144)\n",
    "plt.imshow(np.squeeze(x_train[idx[3],:,:,:]), cmap='gray'); plt.axis('off')\n",
    "\n",
    "\n",
    "#print their labels for our task\n",
    "print('Labels for the for images are: ', y_train[idx[0]],y_train[idx[1]],y_train[idx[2]],y_train[idx[3]])"
   ]
  },
  {
   "cell_type": "markdown",
   "metadata": {
    "deletable": true,
    "editable": true
   },
   "source": [
    "## Exercise 3: Construct your deep neural network\n",
    "\n",
    "The next step is to build your multi-layer network. The input is a 4D tensor (batch_size, height, width, channels) and the output is the logits for classification. You can build any model you want, but it is required to contain convolution layers, nonlinear activation functions, and fully connected layer(s). **Explain your choice and list each layer.** "
   ]
  },
  {
   "cell_type": "code",
   "execution_count": 107,
   "metadata": {
    "collapsed": false,
    "deletable": true,
    "editable": true
   },
   "outputs": [],
   "source": [
    "def conv2d(x, W):\n",
    "    return tf.nn.conv2d(x, W, strides=[1,1,1,1], padding='SAME')\n",
    "\n",
    "def maxpool2d(x):\n",
    "    return tf.nn.max_pool(x, ksize=[1,2,2,1], strides=[1,2,2,1], padding='SAME')\n",
    "\n",
    "def model(input):\n",
    "    input = tf.reshape(input, shape=[-1, 28, 28, 1])\n",
    "    conv1 = conv2d(input, tf.Variable(tf.random_normal([5, 5, 1, 32]))) + tf.Variable(tf.random_normal([32]))\n",
    "    conv1 = tf.nn.relu(conv1)\n",
    "    conv1 = maxpool2d(conv1)\n",
    "    \n",
    "    conv2 = conv2d(conv1,tf.Variable(tf.random_normal([5,5,32,64]))) + tf.Variable(tf.random_normal([64]))\n",
    "    conv2 = tf.nn.relu(conv2)\n",
    "    conv2 = maxpool2d(conv2)\n",
    "    \n",
    "    fc = tf.reshape(conv2, shape=[-1,7*7*64])\n",
    "    fc = tf.nn.relu(tf.matmul(fc, tf.Variable(tf.random_normal([7*7*64,1024]))) + tf.Variable(tf.random_normal([1024])))\n",
    "    out = tf.matmul(fc, tf.Variable(tf.random_normal([1024, 2]))) + tf.Variable(tf.random_normal([2]))\n",
    "    \n",
    "    return out        "
   ]
  },
  {
   "cell_type": "markdown",
   "metadata": {
    "deletable": true,
    "editable": true
   },
   "source": [
    "**List your layers here (make it easy to read):** \n",
    "For example:\n",
    "\n",
    "Input shape: [batch_size, 28, 28, 1]\n",
    "\n",
    "Layer 1: *convolution*,  Activation Function: *ReLU*,  Output Shape: [5,5,1,32], Filter Size: 5\\*5\n",
    "\n",
    "Layer 2: *pooling*,  Output Shape: [1, 2, 2, 1], Filter Size: 2\\*2\n",
    "\n",
    "Layer 3: *convolution*, Activation Function: *ReLU*, Output Shape: [5, 5, 32, 64], Filter Size: 5\\*5\n",
    "\n",
    "Layer 4: *pooling*,  Output Shape: [1, 2, 2, 1], Filter Size: 2\\*2\n",
    "\n",
    "Layer 5: *fully connected*,  Activation Function: *ReLU*, Output Shape: [3136, 1024]\n",
    "\n",
    "Layer 6: *fully connected*,  Output Shape: [1024, 2]\n",
    "\n",
    "**Explaination of choice:**\n",
    "\n",
    "For the most part, my neural network was modeled after the MNIST tutorial found on the Tensorflow documentation page (Found here: https://www.tensorflow.org/get_started/mnist/pros). I modified the model to preform binary classification w.r.t image quality on the data set so I modified the final fully connected to have 2 outputs instead of 10. As for the activation function used in the convolutional and fully connected layers I used the popular Rectified Linear Unit (ReLU) as recommended in http://cs231n.github.io/neural-networks-1/#actfun as well as used in the above Tensorflow tutorial."
   ]
  },
  {
   "cell_type": "markdown",
   "metadata": {
    "collapsed": true,
    "deletable": true,
    "editable": true
   },
   "source": [
    "## Exercise 4: Train your deep neural network\n",
    "\n",
    "\n",
    "After we build the model, we will start to train it using our dataset. \n"
   ]
  },
  {
   "cell_type": "code",
   "execution_count": 108,
   "metadata": {
    "collapsed": false,
    "deletable": true,
    "editable": true
   },
   "outputs": [],
   "source": [
    "#training parameters\n",
    "max_steps = 500\n",
    "learning_rate = 0.0003\n",
    "batch_size = 32\n",
    "\n",
    "n_input = 784\n",
    "n_classes = 2\n",
    "\n",
    "tf.reset_default_graph()\n",
    "\n",
    "# placeholder for the data\n",
    "x_placeholder = tf.placeholder(tf.float32, [None, n_input])\n",
    "y_placeholder = tf.placeholder(tf.float32, [None, n_classes])\n",
    "\n",
    "keep_prob = tf.placeholder(tf.float32)\n",
    "y_hat = model(x_placeholder) \n",
    "\n",
    "# Define loss\n",
    "loss = tf.reduce_mean(tf.nn.softmax_cross_entropy_with_logits(logits=y_hat, labels=y_placeholder))\n",
    "\n",
    "# Define a placeholder to calculate the classification accuracy in a batch\n",
    "correct_pred = tf.equal(tf.argmax(y_hat, 1), tf.argmax(y_placeholder, 1))\n",
    "accuracy = tf.reduce_mean(tf.cast(correct_pred, tf.float32))\n",
    "\n",
    "# Define optimizer\n",
    "train_step  = tf.train.AdamOptimizer(learning_rate).minimize(loss)\n",
    "\n",
    "\n",
    "init = tf.global_variables_initializer()\n",
    "sess = tf.Session()\n",
    "sess.run(init)"
   ]
  },
  {
   "cell_type": "code",
   "execution_count": 109,
   "metadata": {
    "collapsed": false,
    "deletable": true,
    "editable": true
   },
   "outputs": [
    {
     "name": "stdout",
     "output_type": "stream",
     "text": [
      "Loss at step 0: 5485.545410\n",
      "Accuracy at step 0: 0.718750\n",
      "Loss at step 100: 560.769592\n",
      "Accuracy at step 100: 0.906250\n",
      "Loss at step 200: 0.000000\n",
      "Accuracy at step 200: 1.000000\n",
      "Loss at step 300: 137.760956\n",
      "Accuracy at step 300: 0.937500\n",
      "Loss at step 400: 0.000000\n",
      "Accuracy at step 400: 1.000000\n"
     ]
    },
    {
     "data": {
      "text/plain": [
       "[<matplotlib.lines.Line2D at 0x12b4c5d10>]"
      ]
     },
     "execution_count": 109,
     "metadata": {},
     "output_type": "execute_result"
    },
    {
     "data": {
      "image/png": "[encoded data removed]",
      "text/plain": [
       "<matplotlib.figure.Figure at 0x11801be90>"
      ]
     },
     "metadata": {},
     "output_type": "display_data"
    }
   ],
   "source": [
    "data_size = x_train.shape[0]\n",
    "epoch_num = int(data_size / batch_size)\n",
    "\n",
    "loss_plt = []\n",
    "\n",
    "\n",
    "for step in xrange(0, max_steps):\n",
    "    batch_idx = step % epoch_num\n",
    "    if batch_idx == 0:\n",
    "        # Shuffle dataset.\n",
    "    \n",
    "        shuffle_idx = np.random.permutation(data_size)\n",
    "        x_train = x_train[shuffle_idx,:,:,:]\n",
    "        y_train = y_train[shuffle_idx]\n",
    "\n",
    "    # Feed a batch and update the model\n",
    "    batch_x = (x_train[batch_idx * batch_size: (batch_idx+1) * batch_size]).reshape((-1,784))\n",
    "    batch_y = y_train[batch_idx * batch_size: (batch_idx+1) * batch_size]\n",
    "    feed_dict = {x_placeholder: batch_x, y_placeholder: batch_y}\n",
    "    sess.run(train_step, feed_dict)  \n",
    "  \n",
    "\n",
    "    # Output Summary\n",
    "    if step % 5 == 0:\n",
    "        loss_value = sess.run(loss, feed_dict = feed_dict)\n",
    "        loss_plt.append(loss_value)   \n",
    "    \n",
    "    if step % 100 == 0:\n",
    "        print(\"Loss at step %d: %f\" % (step, loss_value))\n",
    "      \n",
    "        accuracy_np = sess.run(accuracy, feed_dict=feed_dict)\n",
    "        print(\"Accuracy at step %d: %f\" % (step, accuracy_np))\n",
    "\n",
    "# plot the loss to see the changes\n",
    "plt.plot(loss_plt)    "
   ]
  },
  {
   "cell_type": "markdown",
   "metadata": {
    "deletable": true,
    "editable": true
   },
   "source": [
    "## Exercise 5: Evaluate your model on the test set\n",
    "\n",
    "\n",
    "Evaluate the accuracy of your model on the entire test set. Print the accuracy. Show 4 examples of test images, their predicted labels and the correct labels.\n"
   ]
  },
  {
   "cell_type": "code",
   "execution_count": 111,
   "metadata": {
    "collapsed": false,
    "deletable": true,
    "editable": true
   },
   "outputs": [
    {
     "name": "stdout",
     "output_type": "stream",
     "text": [
      "Accuracy: 99.6800005436%\n"
     ]
    }
   ],
   "source": [
    "data_test = np.reshape(mnist.test.images, (-1,28,28,1))\n",
    "x_test, y_test = prepare_dataset(data_test)\n",
    "x_test1 = np.copy(x_test)\n",
    "x_test = x_test.reshape((-1, 784))\n",
    "print \"Accuracy: \" + str(sess.run(accuracy, feed_dict={x_placeholder: x_test, y_placeholder: y_test}) * 100) + \"%\""
   ]
  },
  {
   "cell_type": "code",
   "execution_count": 112,
   "metadata": {
    "collapsed": false
   },
   "outputs": [
    {
     "name": "stdout",
     "output_type": "stream",
     "text": [
      "Labels for the for images are:  0 0 1 0\n"
     ]
    },
    {
     "data": {
      "image/png": "[encoded data removed]",
      "text/plain": [
       "<matplotlib.figure.Figure at 0x12b8c9550>"
      ]
     },
     "metadata": {},
     "output_type": "display_data"
    },
    {
     "data": {
      "image/png": "[encoded data removed]",
      "text/plain": [
       "<matplotlib.figure.Figure at 0x12722fa90>"
      ]
     },
     "metadata": {},
     "output_type": "display_data"
    }
   ],
   "source": [
    "idx = np.random.randint(low=0, high =data_test.shape[0], size =4)\n",
    "fig = plt.figure(1)\n",
    "plt.subplot(141)\n",
    "plt.imshow(np.squeeze(data_test[idx[0],:,:,:]), cmap='gray'); plt.axis('off')\n",
    "plt.subplot(142)\n",
    "plt.imshow(np.squeeze(data_test[idx[1],:,:,:]), cmap='gray'); plt.axis('off')\n",
    "plt.subplot(143)\n",
    "plt.imshow(np.squeeze(data_test[idx[2],:,:,:]), cmap='gray'); plt.axis('off')\n",
    "plt.subplot(144)\n",
    "plt.imshow(np.squeeze(data_test[idx[3],:,:,:]), cmap='gray'); plt.axis('off')\n",
    "\n",
    "# Your data\n",
    "fig = plt.figure(2)\n",
    "plt.subplot(141)\n",
    "plt.imshow(np.squeeze(x_test1[idx[0],:,:,:]), cmap='gray'); plt.axis('off')\n",
    "plt.subplot(142)\n",
    "plt.imshow(np.squeeze(x_test1[idx[1],:,:,:]), cmap='gray'); plt.axis('off')\n",
    "plt.subplot(143)\n",
    "plt.imshow(np.squeeze(x_test1[idx[2],:,:,:]), cmap='gray'); plt.axis('off')\n",
    "plt.subplot(144)\n",
    "plt.imshow(np.squeeze(x_test1[idx[3],:,:,:]), cmap='gray'); plt.axis('off')\n",
    "\n",
    "# Print their labels for our task\n",
    "print 'Labels for the for images are: ', np.argmax(y_test[idx[0]]), np.argmax(y_test[idx[1]]), np.argmax(y_test[idx[2]]),np.argmax(y_test[idx[3]])"
   ]
  },
  {
   "cell_type": "code",
   "execution_count": 113,
   "metadata": {
    "collapsed": true
   },
   "outputs": [],
   "source": [
    "sess.close()"
   ]
  },
  {
   "cell_type": "code",
   "execution_count": null,
   "metadata": {
    "collapsed": true
   },
   "outputs": [],
   "source": []
  }
 ],
 "metadata": {
  "anaconda-cloud": {},
  "kernelspec": {
   "display_name": "Python 2",
   "language": "python",
   "name": "python2"
  },
  "language_info": {
   "codemirror_mode": {
    "name": "ipython",
    "version": 2
   },
   "file_extension": ".py",
   "mimetype": "text/x-python",
   "name": "python",
   "nbconvert_exporter": "python",
   "pygments_lexer": "ipython2",
   "version": "2.7.13"
  }
 },
 "nbformat": 4,
 "nbformat_minor": 0
}
